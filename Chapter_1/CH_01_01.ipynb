{
 "cells": [
  {
   "cell_type": "code",
   "execution_count": 14,
   "id": "d39f66ca-159f-47c5-b45a-60418017f844",
   "metadata": {},
   "outputs": [],
   "source": [
    "import os\n",
    "import sys\n",
    "from pathlib import Path\n",
    "import pandas as pd\n",
    "import torch.nn as nn\n"
   ]
  },
  {
   "cell_type": "code",
   "execution_count": 15,
   "id": "109c5fe9",
   "metadata": {},
   "outputs": [
    {
     "data": {
      "text/plain": [
       "['Chapter_0',\n",
       " 'Chapter_1',\n",
       " 'Chapter_2',\n",
       " 'Chapter_3',\n",
       " 'Chapter_4',\n",
       " 'Chapter_5',\n",
       " 'Chapter_6',\n",
       " 'Chapter_7']"
      ]
     },
     "execution_count": 15,
     "metadata": {},
     "output_type": "execute_result"
    }
   ],
   "source": [
    "#list(os.walk('/Users/luis/Documents/Programming/dev/0766_SebRas_Build_An_LLM_From_Scratch/original_files'))\n",
    "#for root, folder, file in os.walk('/Users/luis/Documents/Programming/dev/0766_SebRas_Build_An_LLM_From_Scratch/original_files'):\n",
    "    #print(root)\n",
    "    #print(folder)\n",
    "    #print(file)\n",
    "\n",
    "appended_folder_file_name = []\n",
    "for i in range(0,8):\n",
    "    #print(f\"Chapter_{i}\")\n",
    "    appended_folder_file_name.append(f\"Chapter_{i}\")\n",
    "\n",
    "appended_folder_file_name"
   ]
  },
  {
   "cell_type": "code",
   "execution_count": 16,
   "id": "95f0e83b-97dd-4708-9bff-4b93e00e949b",
   "metadata": {},
   "outputs": [],
   "source": [
    "PATH='/Users/luis/Documents/Programming/dev/0766_SebRas_Build_An_LLM_From_Scratch/0766_Build_An_LLM_from_scratch_311'\n",
    "'Chapter_0',\n",
    "\n",
    "\n",
    "\n",
    "list_of_folders = [\n",
    "    f\"{PATH}/Chapter_1/\",\n",
    "    f\"{PATH}/Chapter_1/01_main-chapter-code/\",\n",
    "    f\"{PATH}/Chapter_2/\",\n",
    "    f\"{PATH}/Chapter_2/01_main-chapter-code/\",\n",
    "    f\"{PATH}/Chapter_3/\",\n",
    "    f\"{PATH}/Chapter_3/01_main-chapter-code/\",\n",
    "    f\"{PATH}/Chapter_4/\",\n",
    "    f\"{PATH}/Chapter_4/01_main-chapter-code/\",\n",
    "    f\"{PATH}/Chapter_5/\",\n",
    "    f\"{PATH}/Chapter_5/01_main-chapter-code/\",\n",
    "    f\"{PATH}/Chapter_6/\",\n",
    "    f\"{PATH}/Chapter_6/01_main-chapter-code/\",\n",
    "    f\"{PATH}/Chapter_7/\",\n",
    "    f\"{PATH}/Chapter_7/01_main-chapter-code/\",\n",
    "]\n",
    "\n",
    "for folder in list_of_folders:\n",
    "    os.makedirs(folder, exist_ok=True)\n",
    "\n"
   ]
  },
  {
   "cell_type": "code",
   "execution_count": null,
   "id": "bc4c899f",
   "metadata": {},
   "outputs": [
    {
     "name": "stdout",
     "output_type": "stream",
     "text": [
      "File already exists\n",
      "File already exists\n"
     ]
    }
   ],
   "source": [
    "PATH='/Users/luis/Documents/Programming/dev/0766_SebRas_Build_An_LLM_From_Scratch/0766_Build_An_LLM_from_scratch_311'\n",
    "'Chapter_0',\n",
    "\n",
    "\n",
    "\n",
    "list_of_files = [\n",
    "    #f\"{PATH}/Chapter_1/\",\n",
    "    #f\"{PATH}/Chapter_1/01_main-chapter-code/\",\n",
    "    f\"{PATH}/Chapter_1/01_main-chapter-code/Ch_01_01.ipynb\",\n",
    "    f\"{PATH}/Chapter_1/01_main-chapter-code/README.md\",\n",
    "    #f\"{PATH}/Chapter_2/\",\n",
    "    #f\"{PATH}/Chapter_2/01_main-chapter-code/\",\n",
    "    f\"{PATH}/Chapter_2/01_main-chapter-code/Ch_02_01.ipynb\",\n",
    "    f\"{PATH}/Chapter_2/01_main-chapter-code/README.md\",\n",
    "    #f\"{PATH}/Chapter_3/\",\n",
    "    #f\"{PATH}/Chapter_3/01_main-chapter-code/\",\n",
    "    f\"{PATH}/Chapter_3/01_main-chapter-code/Ch_03_01.ipynb\",\n",
    "    f\"{PATH}/Chapter_3/01_main-chapter-code/README.md\",\n",
    "    #f\"{PATH}/Chapter_4/\",\n",
    "    #f\"{PATH}/Chapter_4/01_main-chapter-code/\",\n",
    "    f\"{PATH}/Chapter_4/01_main-chapter-code/Ch_04_01.ipynb\",\n",
    "    f\"{PATH}/Chapter_4/01_main-chapter-code/README.md\",\n",
    "    #f\"{PATH}/Chapter_5/\",\n",
    "    #f\"{PATH}/Chapter_5/01_main-chapter-code/\",\n",
    "    f\"{PATH}/Chapter_5/01_main-chapter-code/Ch_05_01.ipynb\",\n",
    "    f\"{PATH}/Chapter_5/01_main-chapter-code/README.md\",\n",
    "    #f\"{PATH}/Chapter_6/\",\n",
    "    #f\"{PATH}/Chapter_6/01_main-chapter-code/\",\n",
    "    f\"{PATH}/Chapter_6/01_main-chapter-code/Ch_06_01.ipynb\",\n",
    "    f\"{PATH}/Chapter_6/01_main-chapter-cde/README.md\",\n",
    "    #f\"{PATH}/Chapter_7/\",\n",
    "    #f\"{PATH}/Chapter_7/01_main-chapter-code/\",\n",
    "    f\"{PATH}/Chapter_7/01_main-chapter-code/Ch_07_01.ipynb\",\n",
    "    f\"{PATH}/Chapter_7/01_main-chapter-code/README.md\",\n",
    "]\n",
    "\n",
    "for file in list_of_files:\n",
    "    if os.path.exists(file):\n",
    "        print(\"File already exists\")\n",
    "    else:\n",
    "        with open(file, 'w') as fp:\n",
    "            fp.write(\"\")\n",
    "\n"
   ]
  },
  {
   "cell_type": "markdown",
   "id": "be404b8a",
   "metadata": {},
   "source": []
  },
  {
   "cell_type": "code",
   "execution_count": null,
   "id": "1318ce1d",
   "metadata": {},
   "outputs": [],
   "source": []
  }
 ],
 "metadata": {
  "kernelspec": {
   "display_name": "0766_Build_An_LLM_from_scratch_311",
   "language": "python",
   "name": "0766_build_an_llm_from_scratch_311"
  },
  "language_info": {
   "codemirror_mode": {
    "name": "ipython",
    "version": 3
   },
   "file_extension": ".py",
   "mimetype": "text/x-python",
   "name": "python",
   "nbconvert_exporter": "python",
   "pygments_lexer": "ipython3",
   "version": "3.11.11"
  }
 },
 "nbformat": 4,
 "nbformat_minor": 5
}
